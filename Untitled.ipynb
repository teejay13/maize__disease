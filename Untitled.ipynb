{
 "cells": [
  {
   "cell_type": "code",
   "execution_count": null,
   "id": "2091ac9c",
   "metadata": {},
   "outputs": [],
   "source": [
    "import torchvision\n",
    "import torch\n",
    "import torchvision.transforms as transforms\n",
    "import os\n",
    "import matplotlib.pyplot as plt\n",
    "import numpy as np\n",
    "\n",
    "torch.manual_seed(17)"
   ]
  },
  {
   "cell_type": "code",
   "execution_count": null,
   "id": "4d46a559",
   "metadata": {},
   "outputs": [],
   "source": [
    "dataset_path = '../maizedataset'"
   ]
  },
  {
   "cell_type": "code",
   "execution_count": null,
   "id": "89e99e26",
   "metadata": {},
   "outputs": [],
   "source": [
    "mean=(0.485, 0.456, 0.406)\n",
    "std = (0.229, 0.224, 0.225)\n",
    "\n",
    "dt_transforms = transforms.Compose([\n",
    "    transforms.Resize((224,224)),\n",
    "    transforms.RandomHorizontalFlip(),\n",
    "    transforms.RandomRotation(10),\n",
    "    transforms.ToTensor(),\n",
    "    transforms.Normalize(torch.Tensor(mean),torch.Tensor(std))\n",
    "    \n",
    "])"
   ]
  },
  {
   "cell_type": "code",
   "execution_count": null,
   "id": "db51a9c8",
   "metadata": {},
   "outputs": [],
   "source": [
    "maize_dataset = torchvision.datasets.ImageFolder(root=dataset_path,transform= dt_transforms)"
   ]
  },
  {
   "cell_type": "code",
   "execution_count": null,
   "id": "78aad663",
   "metadata": {},
   "outputs": [],
   "source": [
    "def show_transformed_image(dataset):\n",
    "    loader = torch.utils.data.DataLoader(dataset,batch_size = 6, shuffle=True)\n",
    "    batch =  next(iter(loader))\n",
    "    images,labels =  batch\n",
    "    \n",
    "    grid = torchvision.utils.make_grid(images, nrow=3)\n",
    "    plt.figure(figsize=(11,11))\n",
    "    plt.imshow(np.transpose(grid,(1,2,0)))\n",
    "    print('labels: ',  labels)"
   ]
  },
  {
   "cell_type": "code",
   "execution_count": null,
   "id": "9c62861f",
   "metadata": {},
   "outputs": [],
   "source": [
    "show_transformed_image(maize_dataset)"
   ]
  },
  {
   "cell_type": "code",
   "execution_count": null,
   "id": "61eccf40",
   "metadata": {},
   "outputs": [],
   "source": []
  }
 ],
 "metadata": {
  "kernelspec": {
   "display_name": "Python 3 (ipykernel)",
   "language": "python",
   "name": "python3"
  },
  "language_info": {
   "codemirror_mode": {
    "name": "ipython",
    "version": 3
   },
   "file_extension": ".py",
   "mimetype": "text/x-python",
   "name": "python",
   "nbconvert_exporter": "python",
   "pygments_lexer": "ipython3",
   "version": "3.9.16"
  }
 },
 "nbformat": 4,
 "nbformat_minor": 5
}
